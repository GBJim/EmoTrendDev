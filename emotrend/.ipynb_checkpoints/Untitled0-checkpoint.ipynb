{
 "metadata": {
  "name": "",
  "signature": "sha256:033342433763ff681e96d26b86a4655601c9b41b0b260f4e555e7af4251b8386"
 },
 "nbformat": 3,
 "nbformat_minor": 0,
 "worksheets": []
}