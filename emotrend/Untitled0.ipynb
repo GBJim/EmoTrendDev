{
 "metadata": {
  "name": "",
  "signature": "sha256:469d7a173a055e145ae3e57072698f8b25e75b6fbd202b5161d3c11ad4602cff"
 },
 "nbformat": 3,
 "nbformat_minor": 0,
 "worksheets": [
  {
   "cells": [
    {
     "cell_type": "code",
     "collapsed": false,
     "input": [
      "ls"
     ],
     "language": "python",
     "metadata": {},
     "outputs": [
      {
       "output_type": "stream",
       "stream": "stdout",
       "text": [
        "crossfilter.min.js  dc.css        emotion.json~  \u001b[0m\u001b[01;35midea.png\u001b[0m    positionStyle.css\r\n",
        "d3.js               dc.min.js     emoTrend.js    index.html  tmp\r\n",
        "d3.layout.cloud.js  emotion.json  \u001b[01;35mheader.jpg\u001b[0m     melt.js     Untitled0.ipynb\r\n"
       ]
      }
     ],
     "prompt_number": 1
    },
    {
     "cell_type": "code",
     "collapsed": false,
     "input": [
      "f = open(\"tmp\",'r')"
     ],
     "language": "python",
     "metadata": {},
     "outputs": [],
     "prompt_number": 29
    },
    {
     "cell_type": "code",
     "collapsed": false,
     "input": [
      "for line in f:\n",
      "    r,w,d= line.split('\\t')\n",
      "    if d == \"29\\n\":\n",
      "        print r,w,d"
     ],
     "language": "python",
     "metadata": {},
     "outputs": [
      {
       "output_type": "stream",
       "stream": "stdout",
       "text": [
        "31504 ./much i spend confessionnight 29\n",
        "\n",
        "17748 ./leave still good feel too 29\n",
        "\n",
        "8244 ./hair my cut 6 29\n",
        "\n",
        "7936 ./use normally danielsahyounie code key 29\n",
        "\n",
        "7752 ./visit guarantee my taylor earn 29\n",
        "\n",
        "4424 ./luck exam good 29\n",
        "\n",
        "4180 ./ready fresh i st. n 29\n",
        "\n",
        "3832 ./release tim my sportscenter adamschefter 29\n",
        "\n",
        "2896 ./pay i attention 29\n",
        "\n"
       ]
      }
     ],
     "prompt_number": 30
    },
    {
     "cell_type": "code",
     "collapsed": false,
     "input": [],
     "language": "python",
     "metadata": {},
     "outputs": [],
     "prompt_number": 17
    },
    {
     "cell_type": "code",
     "collapsed": false,
     "input": [],
     "language": "python",
     "metadata": {},
     "outputs": []
    }
   ],
   "metadata": {}
  }
 ]
}